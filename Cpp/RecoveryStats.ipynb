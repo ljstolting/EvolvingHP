{
 "cells": [
  {
   "cell_type": "code",
   "execution_count": 2,
   "id": "a39693be",
   "metadata": {},
   "outputs": [],
   "source": [
    "import numpy as np\n",
    "import matplotlib.pyplot as plt"
   ]
  },
  {
   "cell_type": "code",
   "execution_count": null,
   "id": "69b5b3de",
   "metadata": {},
   "outputs": [],
   "source": [
    "recovery = np.zeros((100,5,121,10))\n",
    "final_recovery = np.zeros_like(recovery[:,:,:,0])\n",
    "pyl_recovery = np.zeros((100,5))\n",
    "for i in range(100):\n",
    "    for j in range(5):\n",
    "        # print(np.loadtxt(\"./Specifically Evolved HP mechanisms/Every Circuit/%s/%s/recoverytest.dat\"%(i,j))[:,2:])\n",
    "        recovery[i,j] = np.loadtxt(\"./Specifically Evolved HP mechanisms/Every Circuit/%s/%s/recoverytest.dat\"%(i,j))[:,2:]\n",
    "        final_recovery[i,j] = recovery[i,j,:,-1]\n",
    "        pyl_recovery[i,j] = np.sum(final_recovery[i,j]>=.3)\n"
   ]
  },
  {
   "cell_type": "code",
   "execution_count": 9,
   "id": "8b175f74",
   "metadata": {},
   "outputs": [
    {
     "name": "stdout",
     "output_type": "stream",
     "text": [
      "[[121.   0. 121. 121. 121.]\n",
      " [ 84. 116. 121. 121. 121.]\n",
      " [  0.  26.   0.   0.   0.]\n",
      " [121. 121. 121.  70.  74.]\n",
      " [116.   0.   0.   0.  62.]\n",
      " [121. 113.   0. 121. 121.]\n",
      " [ 85.  84.  87.  87.  90.]\n",
      " [121. 121. 121. 121. 121.]\n",
      " [ 99.  85.  81.  99.  95.]\n",
      " [  0.   0.   0.  41.   0.]\n",
      " [ 12.  20.   0.   0.   1.]\n",
      " [  0.   0.   0.   0.   0.]\n",
      " [  0.   0.   0.   0.   0.]\n",
      " [  0.   0.  33.   0.   0.]\n",
      " [121. 121.  99.   0.  86.]\n",
      " [ 21.  20.   0.   0.   0.]\n",
      " [ 73.  70.  78.  40.  67.]\n",
      " [121. 121.   0.  55. 121.]\n",
      " [  0.   0.   0.   0.   0.]\n",
      " [  5. 121.   0.   0.  75.]\n",
      " [ 27.  27.  23.  25.   0.]\n",
      " [  0.  37.   0.  49.   0.]\n",
      " [  0. 119. 121. 115.  14.]\n",
      " [  0.  59.  32. 100.  63.]\n",
      " [  0.   0.   0.   0.   0.]\n",
      " [ 69.  84.  69.  69.  71.]\n",
      " [  0.   0.   0.   0.   0.]\n",
      " [121. 117. 121.   0. 121.]\n",
      " [ 46.   0.   0.   0.   0.]\n",
      " [ 62.   0. 121.  41.   0.]\n",
      " [121. 121.   0. 121.   0.]\n",
      " [121. 121. 105. 118. 103.]\n",
      " [ 25. 121. 121. 106. 121.]\n",
      " [  0.   0.   0.   5.   0.]\n",
      " [ 18.  25.  23.  37.  22.]\n",
      " [  0.   0.   0.   0.   0.]\n",
      " [ 24.   0.  39.  21.  45.]\n",
      " [  0. 116.  59.   0.   0.]\n",
      " [121. 118. 121. 113. 121.]\n",
      " [ 81.  72.  64.  61.  47.]\n",
      " [  0.   0. 121.   0.   0.]\n",
      " [  0.   0.   0.   0.   0.]\n",
      " [121. 121. 121. 121. 121.]\n",
      " [  0.   8.   0.   0.  10.]\n",
      " [  0.  41.   0.   0.   0.]\n",
      " [ 51.  59.  51.  48.  44.]\n",
      " [121.  59. 110.   0.  55.]\n",
      " [ 38. 121. 121. 121.  82.]\n",
      " [ 55.   0.   0.  38.  27.]\n",
      " [121.   0.   0.   0.   0.]\n",
      " [ 32. 121.   0.   0.  72.]\n",
      " [ 47. 110.   0. 121.   0.]\n",
      " [  1. 121. 121. 110.   0.]\n",
      " [121.   0.   0.  29. 121.]\n",
      " [ 99. 121.  45. 110.   0.]\n",
      " [  0.   0. 121.   0.  47.]\n",
      " [121.   0. 121. 121. 121.]\n",
      " [ 46. 110.   0. 121.  39.]\n",
      " [121. 121.   0.   0. 121.]\n",
      " [ 21.   0.   0.   9.  23.]\n",
      " [121.  52. 116. 121. 121.]\n",
      " [  0. 121.   7.   8.   0.]\n",
      " [  0.  53.  66.   0.  13.]\n",
      " [121.  44. 121. 121. 121.]\n",
      " [  0.   0.   0.   0.   0.]\n",
      " [ 41.  45.  43.  25.   0.]\n",
      " [ 53.   0.   0.   0.   0.]\n",
      " [  0.  63.   0.   0.   0.]\n",
      " [ 42.   0.  59.  92.  48.]\n",
      " [  0.   0.   0.   0.   0.]\n",
      " [  0.   0.   0.  11.   0.]\n",
      " [121.   0.   0.   0.   0.]\n",
      " [121.  62.   0. 121.   0.]\n",
      " [108. 110. 121. 121.   0.]\n",
      " [  0.   0.  73.   0. 112.]\n",
      " [ 31.   0.  53.  43.   0.]\n",
      " [ 37.  35.  39.  45.  36.]\n",
      " [  0.   0.   0.   0.   0.]\n",
      " [ 55.   0. 121.  54. 119.]\n",
      " [121.   0.   0.  55. 121.]\n",
      " [  0.   0. 115.  99.  82.]\n",
      " [  0.   0.   0.   0.   0.]\n",
      " [ 16.  67. 121. 121. 115.]\n",
      " [ 67. 106.   0. 107. 121.]\n",
      " [ 38.  58.   0.  63.   0.]\n",
      " [  0.   0.   0.   0.   0.]\n",
      " [ 57.  54.  40. 106. 107.]\n",
      " [ 85. 121.  95.  38.   0.]\n",
      " [121. 121.  38.  11. 121.]\n",
      " [110. 121.  40.   0. 110.]\n",
      " [ 59.  20.   2.  13.   0.]\n",
      " [121. 121. 121. 121.   0.]\n",
      " [  0. 121. 121.  78. 121.]\n",
      " [  0.   0.  11.   5.  10.]\n",
      " [ 46. 121.  15. 121. 121.]\n",
      " [  0.   1.  29.   7.  28.]\n",
      " [ 99.   0. 121. 121. 121.]\n",
      " [107. 111.  86.  94.  73.]\n",
      " [ 93.  33. 121.  58.  61.]\n",
      " [  1.  31.  47.  41. 110.]]\n"
     ]
    }
   ],
   "source": [
    "print(pyl_recovery)"
   ]
  },
  {
   "cell_type": "code",
   "execution_count": 18,
   "id": "01a823a4",
   "metadata": {},
   "outputs": [
    {
     "name": "stdout",
     "output_type": "stream",
     "text": [
      "[121.   0. 121. 121. 121.]\n"
     ]
    }
   ],
   "source": [
    "print(pyl_recovery[0])"
   ]
  },
  {
   "cell_type": "code",
   "execution_count": 20,
   "id": "50d7eb75",
   "metadata": {},
   "outputs": [],
   "source": [
    "contains_bad = np.unique(np.where(pyl_recovery==0)[0])\n",
    "contains_good = np.unique(np.where(pyl_recovery==121)[0])\n",
    "contains_mixed = np.unique(np.where((pyl_recovery>2)&(pyl_recovery<120))[0])\n",
    "contains_goodmixed = np.intersect1d(contains_good,contains_mixed)\n",
    "contains_all = np.intersect1d(np.intersect1d(contains_bad,contains_good),contains_mixed)"
   ]
  },
  {
   "cell_type": "code",
   "execution_count": 22,
   "id": "75ea9185",
   "metadata": {},
   "outputs": [
    {
     "name": "stdout",
     "output_type": "stream",
     "text": [
      "[ 5 14 17 19 22 27 29 46 50 51 52 53 54 55 57 61 72 73 78 79 83 87 89 92\n",
      " 96]\n"
     ]
    }
   ],
   "source": [
    "print(contains_all)"
   ]
  },
  {
   "cell_type": "code",
   "execution_count": 24,
   "id": "b77b4d77",
   "metadata": {},
   "outputs": [
    {
     "name": "stdout",
     "output_type": "stream",
     "text": [
      "[ 5 14 17 19 22 27 29 46 50 51 52 53 54 55 57 61 72 73 78 79 83 87 89 92\n",
      " 96]\n",
      "[[121. 113.   0. 121. 121.]\n",
      " [121. 121.  99.   0.  86.]\n",
      " [121. 121.   0.  55. 121.]\n",
      " [  5. 121.   0.   0.  75.]\n",
      " [  0. 119. 121. 115.  14.]\n",
      " [121. 117. 121.   0. 121.]\n",
      " [ 62.   0. 121.  41.   0.]\n",
      " [121.  59. 110.   0.  55.]\n",
      " [ 32. 121.   0.   0.  72.]\n",
      " [ 47. 110.   0. 121.   0.]\n",
      " [  1. 121. 121. 110.   0.]\n",
      " [121.   0.   0.  29. 121.]\n",
      " [ 99. 121.  45. 110.   0.]\n",
      " [  0.   0. 121.   0.  47.]\n",
      " [ 46. 110.   0. 121.  39.]\n",
      " [  0. 121.   7.   8.   0.]\n",
      " [121.  62.   0. 121.   0.]\n",
      " [108. 110. 121. 121.   0.]\n",
      " [ 55.   0. 121.  54. 119.]\n",
      " [121.   0.   0.  55. 121.]\n",
      " [ 67. 106.   0. 107. 121.]\n",
      " [ 85. 121.  95.  38.   0.]\n",
      " [110. 121.  40.   0. 110.]\n",
      " [  0. 121. 121.  78. 121.]]\n"
     ]
    }
   ],
   "source": [
    "print(contains_all)\n",
    "print(pyl_recovery[contains_all[:-1]])"
   ]
  },
  {
   "cell_type": "code",
   "execution_count": null,
   "id": "219d5352",
   "metadata": {},
   "outputs": [],
   "source": [
    "# lots and lots of ICs contain possible long-timescale cycles. \n",
    "# It's possible that these are just the result of passing through the pyloric zone, and trajectories\n",
    "# do not actually keep returning to the same place...\n",
    "# In any case, this behavior would be considered similar to the \"bouting\" that is observed in\n",
    "# homeostatically recovering STG preparations\n",
    "contains_bout = []\n",
    "for i in range(100):\n",
    "    for j in range(5):\n",
    "        for ic in range(121):\n",
    "            switch1 = False\n",
    "            switch2 = False\n",
    "            for k in range(10-1):\n",
    "                if ((recovery[i,j,ic,k]<.3) != (recovery[i,j,ic,k+1]<.3)):\n",
    "                    if switch1:\n",
    "                        switch2=True\n",
    "                        break\n",
    "                    switch1 = True\n",
    "            if switch2:\n",
    "                contains_bout.append([i,j,ic])\n",
    "                break\n",
    "contains_bout = np.array(contains_bout)\n",
    "# print(contains_bout)"
   ]
  }
 ],
 "metadata": {
  "kernelspec": {
   "display_name": "Python 3",
   "language": "python",
   "name": "python3"
  },
  "language_info": {
   "codemirror_mode": {
    "name": "ipython",
    "version": 3
   },
   "file_extension": ".py",
   "mimetype": "text/x-python",
   "name": "python",
   "nbconvert_exporter": "python",
   "pygments_lexer": "ipython3",
   "version": "3.11.1"
  }
 },
 "nbformat": 4,
 "nbformat_minor": 5
}
