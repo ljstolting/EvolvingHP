{
 "cells": [
  {
   "cell_type": "code",
   "execution_count": 29,
   "metadata": {},
   "outputs": [],
   "source": [
    "import numpy as np\n",
    "import matplotlib.pyplot as plt\n",
    "import statsmodels.stats.proportion as prop"
   ]
  },
  {
   "cell_type": "code",
   "execution_count": 9,
   "metadata": {},
   "outputs": [],
   "source": [
    "rocslow = np.loadtxt('./ROConly/orderingcriteria.dat')\n",
    "rocfast = np.loadtxt('./ROConly/orderingcriteriafastROC.dat')\n",
    "comboslow = np.loadtxt('./HPsatANDroc/orderingcriteria.dat')\n",
    "combofast = np.loadtxt('./HPsatANDroc/orderingcriteriafastcombo.dat')"
   ]
  },
  {
   "cell_type": "code",
   "execution_count": 11,
   "metadata": {},
   "outputs": [
    {
     "data": {
      "text/plain": [
       "100"
      ]
     },
     "execution_count": 11,
     "metadata": {},
     "output_type": "execute_result"
    }
   ],
   "source": [
    "len(combofast)"
   ]
  },
  {
   "cell_type": "code",
   "execution_count": 20,
   "metadata": {},
   "outputs": [
    {
     "name": "stdout",
     "output_type": "stream",
     "text": [
      "[51]\n",
      "[0. 1. 1.]\n",
      "[]\n",
      "no deviance\n",
      "[18]\n",
      "[0. 1. 1.]\n",
      "[17]\n",
      "[0. 1. 0.]\n"
     ]
    }
   ],
   "source": [
    "#to what extent can I treat the first two ordering criteria like a block?\n",
    "print(np.where(rocslow[:,0] != rocslow[:,1])[0])\n",
    "print(rocslow[51])\n",
    "print(np.where(rocfast[:,0] != rocfast[:,1])[0])\n",
    "print('no deviance')\n",
    "print(np.where(comboslow[:,0] != comboslow[:,1])[0])\n",
    "print(comboslow[18])\n",
    "print(np.where(combofast[:,0] != combofast[:,1])[0])\n",
    "print(combofast[17])\n",
    "#one instance of non-equality in three of four data sets"
   ]
  },
  {
   "cell_type": "code",
   "execution_count": 26,
   "metadata": {},
   "outputs": [],
   "source": [
    "#create pooled data\n",
    "rocfast_cut = rocfast[np.where(rocfast[:,0]!=2)[0]]\n",
    "len(rocfast_cut)\n",
    "\n",
    "combofast_cut = combofast[np.where(combofast[:,0]!=2)[0]]\n",
    "len(combofast_cut)\n",
    "\n",
    "roc_pool = np.concatenate((rocfast_cut,rocslow))\n",
    "combo_pool = np.concatenate((combofast_cut,comboslow))"
   ]
  },
  {
   "cell_type": "code",
   "execution_count": 38,
   "metadata": {},
   "outputs": [
    {
     "name": "stdout",
     "output_type": "stream",
     "text": [
      "0.8135492910287812\n",
      "0.9071293098656603\n",
      "0.43933571594215004\n",
      "pyloric counts: 5 19\n",
      "0.003203218836972529\n"
     ]
    }
   ],
   "source": [
    "#analyze pooled data\n",
    "n = 200 # number of evolutions per condition\n",
    "\n",
    "roc_count_assessable = len(roc_pool)\n",
    "combo_count_assessable = len(combo_pool)\n",
    "# print(roc_count_assessable,combo_count_assessable)\n",
    "\n",
    "roc_count_pyloric = len(np.where(np.sum(roc_pool,axis=1)==3)[0])\n",
    "combo_count_pyloric = len(np.where(np.sum(combo_pool,axis=1)==3)[0])\n",
    "\n",
    "roc_count_0 = np.sum(roc_pool[:,0])\n",
    "combo_count_0 = np.sum(combo_pool[:,0])\n",
    "roc_count_1 = np.sum(roc_pool[:,1])\n",
    "combo_count_1 = np.sum(combo_pool[:,1])\n",
    "roc_count_2 = np.sum(roc_pool[:,2])\n",
    "combo_count_2 = np.sum(combo_pool[:,2])\n",
    "\n",
    "# print(roc_count_0,combo_count_0,roc_count_1,combo_count_1,roc_count_2,combo_count_2)\n",
    "\n",
    "stat,pval0 = prop.proportions_ztest([roc_count_0,combo_count_0],[n,n],0)\n",
    "print(pval0)\n",
    "\n",
    "stat,pval1 = prop.proportions_ztest([roc_count_1,combo_count_1],[n,n],0)\n",
    "print(pval1)\n",
    "\n",
    "stat,pval2 = prop.proportions_ztest([roc_count_2,combo_count_2],[n,n],0)\n",
    "print(pval2)\n",
    "\n",
    "print('pyloric counts:',roc_count_pyloric,combo_count_pyloric)\n",
    "stat,pvalp = prop.proportions_ztest([roc_count_pyloric,combo_count_pyloric],[n,n],0)\n",
    "print(pvalp)"
   ]
  }
 ],
 "metadata": {
  "kernelspec": {
   "display_name": "base",
   "language": "python",
   "name": "python3"
  },
  "language_info": {
   "codemirror_mode": {
    "name": "ipython",
    "version": 3
   },
   "file_extension": ".py",
   "mimetype": "text/x-python",
   "name": "python",
   "nbconvert_exporter": "python",
   "pygments_lexer": "ipython3",
   "version": "3.9.13"
  }
 },
 "nbformat": 4,
 "nbformat_minor": 2
}
