{
 "cells": [
  {
   "cell_type": "markdown",
   "metadata": {},
   "source": [
    "Repeating some of the analysis in a model where all three biases are under homeostatic control (still visualizable in 3D)"
   ]
  },
  {
   "cell_type": "code",
   "execution_count": 1,
   "metadata": {},
   "outputs": [],
   "source": [
    "import numpy as np\n",
    "import matplotlib.pyplot as plt"
   ]
  },
  {
   "cell_type": "markdown",
   "metadata": {},
   "source": [
    "Steps (all on Peter):\n",
    "0. Evolve HP to work on three biases\n",
    "1. Fitness map\n",
    "\n",
    "    a. Define a B2 range that will capture the pyloric region\n",
    "\n",
    "    b. record, from one direciton, all points that are pyloric on one side and not the other (border points)\n",
    "\n",
    "    c. plot border points to denote rough pyloric region 3D\n",
    "\n",
    "2. MaxMin statistics to define HP ranges\n",
    "\n",
    "    a. Calculate maxmin values for other slices at various B2 values\n",
    "\n",
    "    b. Try to use same maxmin for B1 and B3 and check which B2 maxmin confines to high fitness\n",
    "\n",
    "    c. Repeat statistical analysis with binning if not possible\n",
    "    \n",
    "3. IC testing to confirm effectiveness\n"
   ]
  },
  {
   "cell_type": "markdown",
   "metadata": {},
   "source": [
    "Next step will be to examine extension to all 15 parameters"
   ]
  }
 ],
 "metadata": {
  "kernelspec": {
   "display_name": "Python 3",
   "language": "python",
   "name": "python3"
  },
  "language_info": {
   "codemirror_mode": {
    "name": "ipython",
    "version": 3
   },
   "file_extension": ".py",
   "mimetype": "text/x-python",
   "name": "python",
   "nbconvert_exporter": "python",
   "pygments_lexer": "ipython3",
   "version": "3.11.1"
  }
 },
 "nbformat": 4,
 "nbformat_minor": 2
}
