{
 "cells": [
  {
   "cell_type": "code",
   "execution_count": 8,
   "metadata": {},
   "outputs": [],
   "source": [
    "import numpy as np\n",
    "from itertools import islice"
   ]
  },
  {
   "cell_type": "code",
   "execution_count": 27,
   "metadata": {},
   "outputs": [
    {
     "name": "stdout",
     "output_type": "stream",
     "text": [
      "30.0 26.0\n",
      "40\n"
     ]
    },
    {
     "data": {
      "text/plain": [
       "array([ 0,  2,  3,  4,  5,  6,  7,  8,  9, 10, 11, 12, 14, 15, 16, 17, 18,\n",
       "       19, 20, 22, 23, 24, 25, 26, 27, 28, 29, 30, 31, 33, 34, 36, 40, 41,\n",
       "       44, 45, 46, 47, 48, 49])"
      ]
     },
     "execution_count": 27,
     "metadata": {},
     "output_type": "execute_result"
    }
   ],
   "source": [
    "N = 2 #number of params that are being plastically controlled\n",
    "squish= np.zeros((50,N)) #0: not squished, 1: squished\n",
    "for i in range(50):\n",
    "    filename = '../Cpp/%s/bestindsfastsuper.dat'%i\n",
    "    with open(filename,\"r\") as f:\n",
    "        generation = np.loadtxt(islice(f, 1))\n",
    "        [gen,phen] = np.loadtxt(islice(f, 2))\n",
    "        bounds = gen[N:N+(N*2)]\n",
    "        for k in range(N):\n",
    "            if bounds[k] > bounds[k+N]:\n",
    "                squish[i,k] = 1\n",
    "\n",
    "print(np.sum(squish[:,0]),np.sum(squish[:,1]))\n",
    "\n",
    "print(len(np.where(squish.any(axis=1)==1)[0]))\n"
   ]
  },
  {
   "cell_type": "markdown",
   "metadata": {},
   "source": [
    "Maybe I've figured out why the squishing is so hard to get rid of. Once you get squished, not only can you no longer move the UB down, you cannot move the LB up. The only way to fix this does seem to be to change the encoding"
   ]
  },
  {
   "cell_type": "markdown",
   "metadata": {},
   "source": []
  }
 ],
 "metadata": {
  "kernelspec": {
   "display_name": "Python 3",
   "language": "python",
   "name": "python3"
  },
  "language_info": {
   "codemirror_mode": {
    "name": "ipython",
    "version": 3
   },
   "file_extension": ".py",
   "mimetype": "text/x-python",
   "name": "python",
   "nbconvert_exporter": "python",
   "pygments_lexer": "ipython3",
   "version": "3.11.1"
  }
 },
 "nbformat": 4,
 "nbformat_minor": 2
}
