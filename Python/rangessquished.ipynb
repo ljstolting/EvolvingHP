{
 "cells": [
  {
   "cell_type": "code",
   "execution_count": 3,
   "metadata": {},
   "outputs": [],
   "source": [
    "import numpy as np\n",
    "from itertools import islice\n",
    "import matplotlib.pyplot as plt"
   ]
  },
  {
   "cell_type": "code",
   "execution_count": 27,
   "metadata": {},
   "outputs": [
    {
     "name": "stdout",
     "output_type": "stream",
     "text": [
      "30.0 26.0\n",
      "40\n"
     ]
    },
    {
     "data": {
      "text/plain": [
       "array([ 0,  2,  3,  4,  5,  6,  7,  8,  9, 10, 11, 12, 14, 15, 16, 17, 18,\n",
       "       19, 20, 22, 23, 24, 25, 26, 27, 28, 29, 30, 31, 33, 34, 36, 40, 41,\n",
       "       44, 45, 46, 47, 48, 49])"
      ]
     },
     "execution_count": 27,
     "metadata": {},
     "output_type": "execute_result"
    }
   ],
   "source": [
    "N = 2 #number of params that are being plastically controlled\n",
    "squish= np.zeros((50,N)) #0: not squished, 1: squished\n",
    "for i in range(50):\n",
    "    filename = '../Cpp/%s/bestindsfastsuper.dat'%i\n",
    "    with open(filename,\"r\") as f:\n",
    "        generation = np.loadtxt(islice(f, 1))\n",
    "        [gen,phen] = np.loadtxt(islice(f, 2))\n",
    "        bounds = gen[N:N+(N*2)]\n",
    "        for k in range(N):\n",
    "            if bounds[k] > bounds[k+N]:\n",
    "                squish[i,k] = 1\n",
    "\n",
    "print(np.sum(squish[:,0]),np.sum(squish[:,1]))\n",
    "\n",
    "print(len(np.where(squish.any(axis=1)==1)[0]))\n"
   ]
  },
  {
   "cell_type": "markdown",
   "metadata": {},
   "source": [
    "Maybe I've figured out why the squishing is so hard to get rid of. Once you get squished, not only can you no longer move the UB down, you cannot move the LB up. The only way to fix this does seem to be to change the encoding"
   ]
  },
  {
   "cell_type": "code",
   "execution_count": 12,
   "metadata": {},
   "outputs": [
    {
     "name": "stdout",
     "output_type": "stream",
     "text": [
      "[2. 1. 0. 2. 2. 1. 1. 1. 1. 1. 2. 0. 1. 2. 2. 1. 1. 1. 0. 2. 1. 0. 0. 0.\n",
      " 0. 2. 1. 1. 2. 0. 1. 0. 1. 1. 0. 1. 1. 2. 1. 1. 0. 1. 2. 0. 1. 0. 1. 1.\n",
      " 2. 0.]\n",
      "24 12\n"
     ]
    },
    {
     "data": {
      "image/png": "[encoded data removed]",
      "text/plain": [
       "<Figure size 640x480 with 1 Axes>"
      ]
     },
     "metadata": {},
     "output_type": "display_data"
    }
   ],
   "source": [
    "#compare with the genomes that evolved with the new (range-based) encoding\n",
    "N = 2 #number of params that are being plastically controlled\n",
    "rangevals = np.zeros((2,50))\n",
    "squishnum = np.zeros((50))\n",
    "for i in range(101,150):\n",
    "    filename = '../Cpp/%s/bestindsrangeencoding.dat'%i\n",
    "    with open(filename,\"r\") as f:\n",
    "        generation = np.loadtxt(islice(f, 1))\n",
    "        [gen,phen] = np.loadtxt(islice(f, 2))\n",
    "        ranges = phen[2*N:3*N]\n",
    "        rangevals[:,i-101] = ranges\n",
    "        for k in range(N):\n",
    "            if ranges[k] < .05:\n",
    "                squishnum[i-101] += 1\n",
    "\n",
    "plt.hist(rangevals[0])\n",
    "plt.hist(rangevals[1])\n",
    "print(squishnum)\n",
    "print(len(np.where(squishnum==1)[0]),len(np.where(squishnum==2)[0]))"
   ]
  },
  {
   "cell_type": "code",
   "execution_count": null,
   "metadata": {},
   "outputs": [],
   "source": []
  }
 ],
 "metadata": {
  "kernelspec": {
   "display_name": "Python 3",
   "language": "python",
   "name": "python3"
  },
  "language_info": {
   "codemirror_mode": {
    "name": "ipython",
    "version": 3
   },
   "file_extension": ".py",
   "mimetype": "text/x-python",
   "name": "python",
   "nbconvert_exporter": "python",
   "pygments_lexer": "ipython3",
   "version": "3.11.1"
  }
 },
 "nbformat": 4,
 "nbformat_minor": 2
}
