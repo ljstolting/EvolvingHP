{
 "cells": [
  {
   "cell_type": "markdown",
   "metadata": {},
   "source": [
    "Why do the kinds of HP characteristics evolved seem to be generally successful? Does their variation pick out something about pyloricness in general, rather than the particulars of these slices? To find out, we can evolve circuits to be least affected by the HP mechanism and see if this makes them pyloric necessarily"
   ]
  },
  {
   "cell_type": "code",
   "execution_count": null,
   "metadata": {},
   "outputs": [],
   "source": []
  }
 ],
 "metadata": {
  "language_info": {
   "name": "python"
  }
 },
 "nbformat": 4,
 "nbformat_minor": 2
}
